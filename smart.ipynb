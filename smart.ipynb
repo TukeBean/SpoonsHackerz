import numpy as np
import pandas as pd
import seaborn as sns

%matplotlib inline
import matplotlib.pyplot as plt

